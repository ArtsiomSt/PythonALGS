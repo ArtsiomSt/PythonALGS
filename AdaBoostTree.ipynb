{
 "cells": [
  {
   "cell_type": "code",
   "execution_count": 1,
   "id": "c164fae9",
   "metadata": {},
   "outputs": [],
   "source": [
    "import numpy as np\n",
    "import pandas as pd\n",
    "from sklearn.tree import DecisionTreeClassifier"
   ]
  },
  {
   "cell_type": "code",
   "execution_count": 32,
   "id": "73360e59",
   "metadata": {},
   "outputs": [],
   "source": [
    "t = [[(85, 174), (93, 156), (103, 176), (113, 152), (123, 133), (128, 160), (147, 127), (152, 137), (180, 124), (180, 148), (205, 133), (207, 113), (199, 158), (222, 168), (235, 137), (237, 152), (265, 149), (258, 180), (237, 196), (255, 214), (270, 203), (280, 186), (280, 228), (269, 239), (300, 203), (289, 240), (279, 270), (294, 271), (308, 238), (118, 187), (154, 154)], [(157, 226), (180, 205), (179, 238), (196, 225), (171, 256), (201, 255), (184, 288), (218, 254), (215, 293), (233, 282), (217, 330), (226, 316), (241, 314), (253, 337), (267, 314), (278, 335), (286, 349), (290, 314), (309, 345), (328, 347), (329, 314), (314, 322), (342, 286), (356, 314), (360, 332), (368, 286), (376, 307), (387, 273), (384, 248), (395, 289), (377, 263), (389, 213), (409, 224), (409, 258), (376, 202), (380, 169), (408, 186), (408, 205), (424, 164), (406, 149), (436, 197), (427, 242), (419, 273), (402, 313), (380, 335)]]\n",
    "n1 = len(t[0])\n",
    "n2 = len(t[1])\n",
    "\n",
    "train_data = np.r_[t[0], t[1]]\n",
    "train_labels = np.r_[np.ones(n1) * -1, np.ones(n2)]"
   ]
  },
  {
   "cell_type": "code",
   "execution_count": 38,
   "id": "5b2a8ec8",
   "metadata": {},
   "outputs": [],
   "source": [
    "for n in range(T):\n",
    "    trees.append(DecisionTreeClassifier(max_depth=max_depth, criterion='gini'))\n",
    "    trees[-1].fit(train_data, train_labels, sample_weights=w)\n",
    "    N = len(list(filter(lambda x: x != 0, trees[-1].predict(train_data) - train_labels))) / XN\n",
    "    a = 0.5*np.log(1-)"
   ]
  },
  {
   "cell_type": "code",
   "execution_count": 55,
   "id": "fde0055e",
   "metadata": {},
   "outputs": [],
   "source": [
    "XN = len(train_data)\n",
    "T = 2\n",
    "max_depth = 2\n",
    "w = np.array([float(1/XN) for _ in range(XN)])\n",
    "trees = []\n",
    "alphas = []\n",
    "\n",
    "for n in range(T):\n",
    "    trees.append(DecisionTreeClassifier(max_depth=max_depth, criterion='gini'))\n",
    "    trees[n].fit(train_data, train_labels, sample_weight=w)\n",
    "    predicted = trees[n].predict(train_data)\n",
    "    N = np.sum(np.abs(train_labels - predicted) / 2) / XN\n",
    "    a = 0.5 * np.log((1 - N) / N) if N != 0 else np.log((1-1e-8) / 1e-8)\n",
    "    alphas.append(a)\n",
    "    w = w * np.exp(-a*train_labels*trees[-1].predict(train_data))\n",
    "    w = w / np.sum(w)"
   ]
  },
  {
   "cell_type": "code",
   "execution_count": 56,
   "id": "9ba32fbb",
   "metadata": {},
   "outputs": [
    {
     "name": "stdout",
     "output_type": "stream",
     "text": [
      "0.09210526315789473\n",
      "0.09210526315789473\n"
     ]
    }
   ],
   "source": [
    "print(len(list(filter(lambda x: x != 0, trees[-1].predict(train_data) - train_labels))) / XN)\n",
    "print(np.sum(np.abs(train_labels - predicted) / 2) / XN)"
   ]
  },
  {
   "cell_type": "code",
   "execution_count": 43,
   "id": "7ee95e7f",
   "metadata": {},
   "outputs": [],
   "source": [
    "T = 1                  \n",
    "max_depth = 2           \n",
    "w = np.ones(XN) / XN    \n",
    "algs = []               \n",
    "alfa = []               \n",
    "\n",
    "for n in range(T):\n",
    "    algs.append(DecisionTreeClassifier(criterion='gini', max_depth=max_depth))\n",
    "    algs[n].fit(train_data, train_labels, sample_weight=w)\n",
    "\n",
    "    predicted = algs[n].predict(train_data)\n",
    "    N = np.sum(np.abs(train_labels - predicted) / 2) / XN\n",
    "    alfa.append( 0.5 * np.log((1 - N) / N) if N != 0 else np.log((1-1e-8) / 1e-8) )\n",
    "    w = w * np.exp(-1 * alfa[n] * train_labels * predicted)\n",
    "    w = w / np.sum(w)"
   ]
  },
  {
   "cell_type": "code",
   "execution_count": 45,
   "id": "b93adfdd",
   "metadata": {},
   "outputs": [
    {
     "data": {
      "text/plain": [
       "0.09210526315789473"
      ]
     },
     "execution_count": 45,
     "metadata": {},
     "output_type": "execute_result"
    }
   ],
   "source": [
    "np.sum(np.abs(train_labels - predicted) / 2) / XN"
   ]
  },
  {
   "cell_type": "code",
   "execution_count": null,
   "id": "6711ba6c",
   "metadata": {},
   "outputs": [],
   "source": []
  }
 ],
 "metadata": {
  "kernelspec": {
   "display_name": "Python 3 (ipykernel)",
   "language": "python",
   "name": "python3"
  },
  "language_info": {
   "codemirror_mode": {
    "name": "ipython",
    "version": 3
   },
   "file_extension": ".py",
   "mimetype": "text/x-python",
   "name": "python",
   "nbconvert_exporter": "python",
   "pygments_lexer": "ipython3",
   "version": "3.9.13"
  }
 },
 "nbformat": 4,
 "nbformat_minor": 5
}
