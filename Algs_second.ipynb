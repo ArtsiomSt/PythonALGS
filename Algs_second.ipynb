{
 "cells": [
  {
   "cell_type": "code",
   "execution_count": 4,
   "id": "c054b11b",
   "metadata": {},
   "outputs": [
    {
     "name": "stdout",
     "output_type": "stream",
     "text": [
      " 32423 dsafasf   fsdaf\n",
      "32423 dsafasf fsdaf\n"
     ]
    }
   ],
   "source": [
    "message = input()\n",
    "\n",
    "#message = message.strip()\n",
    "message = ' '.join([w.strip() for w in message.split()])\n",
    "\n",
    "print(message)"
   ]
  },
  {
   "cell_type": "code",
   "execution_count": 11,
   "id": "a001d33b",
   "metadata": {},
   "outputs": [
    {
     "name": "stdout",
     "output_type": "stream",
     "text": [
      "4\n",
      "2\n"
     ]
    }
   ],
   "source": [
    "N = int(input())\n",
    "c = [['0', '1', '1', '0'], ['1', '0', '0', '0'], ['1', '0', '0', '0'], ['0', '0', '0', '0']]\n",
    "# for city in range(N):\n",
    "#     c.append(input().split())\n",
    "\n",
    "amount = 0\n",
    "for i in range(len(c)):\n",
    "    amount += len(list(filter(lambda x: x == '1', c[i][i:])))\n",
    "print(amount)"
   ]
  },
  {
   "cell_type": "code",
   "execution_count": 6,
   "id": "9159d09a",
   "metadata": {},
   "outputs": [
    {
     "name": "stdout",
     "output_type": "stream",
     "text": [
      "7 23 30 \n",
      "2\n",
      "1 10 00\n",
      "0 9 00\n",
      "[630, 570]\n"
     ]
    }
   ],
   "source": [
    "current_date = list(map(int, input().split()))\n",
    "amount_rem = int(input())\n",
    "reminders = []\n",
    "for r in range(amount_rem):\n",
    "    reminders.append(list(map(int, input().split())))\n",
    "    \n",
    "    \n",
    "\n",
    "    \n",
    "res = []\n",
    "end_week = 10080\n",
    "cur_min = date_to_min(current_date)\n",
    "for r in reminders:\n",
    "    minutes = date_to_min(r)\n",
    "    if type(minutes) == list:\n",
    "        tmp = []\n",
    "        for m in minutes:\n",
    "            if m > cur_min:\n",
    "                tmp.append(m-cur_min)\n",
    "                continue\n",
    "            else:\n",
    "                tmp.append(end_week-cur_min+m)\n",
    "        res.append(min(tmp))\n",
    "        continue\n",
    "    if minutes > cur_min:\n",
    "        res.append(minutes-cur_min)\n",
    "        continue\n",
    "    else:\n",
    "        res.append(end_week-cur_min+minutes)\n",
    "\n",
    "print(res)"
   ]
  },
  {
   "cell_type": "code",
   "execution_count": 3,
   "id": "86e2eed2",
   "metadata": {},
   "outputs": [
    {
     "data": {
      "text/plain": [
       "10079"
      ]
     },
     "execution_count": 3,
     "metadata": {},
     "output_type": "execute_result"
    }
   ],
   "source": [
    "import math\n",
    "\n",
    "def date_to_min(date):\n",
    "    if date[0] == 0:\n",
    "        return [(x-1)*24*60+date[1]*60+date[2] for x in range(1, 8)]\n",
    "    return (date[0]-1)*24*60+date[1]*60+date[2]\n",
    "\n",
    "date_to_min([7,23,59])"
   ]
  },
  {
   "cell_type": "code",
   "execution_count": 35,
   "id": "3654dc13",
   "metadata": {},
   "outputs": [
    {
     "name": "stdout",
     "output_type": "stream",
     "text": [
      "4\n"
     ]
    }
   ],
   "source": [
    "# amount = int(input())\n",
    "# tables = []\n",
    "# for item in range(5):\n",
    "#     tables.append([x for x in input()])\n",
    "\n",
    "amount = 5\n",
    "tables = [['*', '*', '*', '*', '*'],\n",
    "         ['*', '.', '.', '.', '*'],\n",
    "         ['*', '*', '.', '*', '*'],\n",
    "         ['*', '.', '*', '*', '*'],\n",
    "         ['*', '*', '*', '*', '*']]\n",
    "\n",
    "chosen = (2,2)\n",
    "\n",
    "def check_table(tables, choosen):\n",
    "    amount = 0\n",
    "    checked = [(choosen[0]-1, choosen[1]-1)]\n",
    "    while True:\n",
    "        tmp = []\n",
    "        if amount == 0:\n",
    "            current_neibors = [(choosen[0]-1, choosen[1]-1)]\n",
    "            amount += 1\n",
    "        #print(current_neibors)\n",
    "        for n in current_neibors:\n",
    "            i, j = n\n",
    "            #print(tables[i][j+1], tables[i][j-1], tables[i-1][j], tables[i+1][j])\n",
    "            if tables[i][j+1] == '.' and (i, j+1) not in checked:\n",
    "                tmp.append((i, j+1))\n",
    "                checked.append((i, j+1))\n",
    "            if tables[i][j-1] == '.' and (i, j-1) not in checked:\n",
    "                tmp.append((i, j-1))\n",
    "                checked.append((i, j-1))\n",
    "            if tables[i-1][j] == '.' and (i-1, j) not in checked:\n",
    "                tmp.append((i-1, j))\n",
    "                checked.append((i-1, j))\n",
    "            if tables[i+1][j] == '.' and (i+1, j) not in checked:\n",
    "                tmp.append((i+1, j))\n",
    "                checked.append((i+1, j))\n",
    "        current_neibors = tmp\n",
    "        #print(tmp)\n",
    "        if len(current_neibors) == 0:\n",
    "            break\n",
    "    return len(checked)\n",
    "         \n",
    "print(check_table(tables, chosen))"
   ]
  },
  {
   "cell_type": "code",
   "execution_count": 16,
   "id": "c71dee19",
   "metadata": {},
   "outputs": [
    {
     "data": {
      "text/plain": [
       "189980001"
      ]
     },
     "execution_count": 16,
     "metadata": {},
     "output_type": "execute_result"
    }
   ],
   "source": [
    "import math\n",
    "\n",
    "\n",
    "def get_line_by_two_dots(p1, p2):\n",
    "    try:\n",
    "        left_k = (p1[1] - p2[1])/(p1[0] - p2[0])\n",
    "        left_b = p1[1] - left_k*p1[0]\n",
    "    except ZeroDivisionError:\n",
    "        return (p1[0],)\n",
    "    return left_k, left_b\n",
    "\n",
    "\n",
    "def find_resc(k, st, d1, d2):\n",
    "    x = st\n",
    "    y = k[0]*st+k[1]\n",
    "    if x >= min(d1[0], d2[0]) and x <= max(d1[0], d2[0]) and y >= min(d1[1], d2[1]) and y <= max(d1[1], d2[1]):\n",
    "        return (x,y)\n",
    "    else:\n",
    "        return None\n",
    "    \n",
    "\n",
    "def get_lines_that_intersect(dots, st): #Координаты(в массиве dots) линий которые пересекаются \n",
    "    res = []\n",
    "    for i, dot in enumerate(dots):\n",
    "        right = i+1 if i != len(dots)-1 else 0\n",
    "        line = get_line_by_two_dots(dot, dots[right])\n",
    "       # print(dot, dots[right])\n",
    "        if len(line) == 1 and st == line[0]:\n",
    "            return [(math.dist(dot, dots[right]),)] # Если это, то прямая парралельна Oy и возвращается только длинна этой линии\n",
    "        elif len(line) == 1:\n",
    "            continue\n",
    "        inters = find_resc(line, st, dot, dots[right])\n",
    "        if inters is not None:\n",
    "            res.append((i, right))\n",
    "    return res\n",
    "\n",
    "\n",
    "dots = [[-30, 40], [-30, -40], [100, 0]]\n",
    "st = -3\n",
    "\n",
    "dots = [[-10000, 10000], [-10000, -10000], [9000, 9000]]\n",
    "\n",
    "\n",
    "def count_dots_on_line(dots, st):\n",
    "    ind = get_lines_that_intersect(dots, st)\n",
    "    if len(ind) == 1:\n",
    "        return 0\n",
    "    k1 = get_line_by_two_dots(dots[ind[0][0]], dots[ind[0][1]])\n",
    "    k2 = get_line_by_two_dots(dots[ind[1][0]], dots[ind[1][1]])\n",
    "    y1 = st*k1[0]+k1[1]\n",
    "    y2 = st*k2[0]+k2[1]\n",
    "    return len([x for x in range(int(min(y1, y2)), int(max(y1, y2)+1)) if x > min(y1, y2) and x < max(y1, y2)])\n",
    "        \n",
    "\n",
    "    \n",
    "def dot_in_figure(dots):\n",
    "    min_x = min(dots, key=lambda x: x[0])[0]\n",
    "    max_x = max(dots, key=lambda x: x[0])[0]\n",
    "    amount = 0\n",
    "    for st in [x for x in range(round(min_x), round(max_x))]:\n",
    "        amount += count_dots_on_line(dots, st)\n",
    "        #print(amount)\n",
    "    return amount\n",
    "    \n",
    "    \n",
    "    \n",
    "get_lines_that_intersect(dots, st)\n",
    "count_dots_on_line(dots, st)\n",
    "dot_in_figure(dots)"
   ]
  },
  {
   "cell_type": "code",
   "execution_count": 6,
   "id": "986dc98c",
   "metadata": {},
   "outputs": [
    {
     "name": "stdout",
     "output_type": "stream",
     "text": [
      "Amstbase tulpin 10\n",
      "{'Amstbase': {'tulpin': 10}}\n",
      "Berlinbase watermark 5\n",
      "{'Amstbase': {'tulpin': 10}, 'Berlinbase': {'watermark': 5}}\n",
      "Amstbase rose 3\n",
      "{'Amstbase': {'tulpin': 10, 'rose': 3}, 'Berlinbase': {'watermark': 5}}\n",
      "Amstbase tulpin 7\n",
      "{'Amstbase': {'tulpin': 17, 'rose': 3}, 'Berlinbase': {'watermark': 5}}\n",
      "Berlinbase pion 20\n",
      "{'Amstbase': {'tulpin': 17, 'rose': 3}, 'Berlinbase': {'watermark': 5, 'pion': 20}}\n",
      "Amstbase pion 5\n",
      "{'Amstbase': {'tulpin': 17, 'rose': 3, 'pion': 5}, 'Berlinbase': {'watermark': 5, 'pion': 20}}\n",
      "\n",
      "Amstbase\n",
      "tulpin 17\n",
      "rose 3\n",
      "pion 5\n",
      "Berlinbase\n",
      "watermark 5\n",
      "pion 20\n"
     ]
    }
   ],
   "source": [
    "supply = {}\n",
    "\n",
    "for counter in range(0, 200):\n",
    "    current_input = input()\n",
    "    if not current_input:\n",
    "        break\n",
    "    current_input = current_input.split()\n",
    "    if not current_input[0] in supply.keys():\n",
    "        supply[current_input[0]] = {}\n",
    "    if not current_input[1] in supply[current_input[0]].keys():\n",
    "        supply[current_input[0]][current_input[1]] = int(current_input[2])\n",
    "    else:\n",
    "        supply[current_input[0]][current_input[1]] += int(current_input[2])\n",
    "    #print(supply)\n",
    "\n",
    "for item in supply.items():\n",
    "    print(item[0])\n",
    "    for flower in item[1].items():\n",
    "        print(flower[0], str(flower[1]))"
   ]
  },
  {
   "cell_type": "code",
   "execution_count": null,
   "id": "17d042df",
   "metadata": {},
   "outputs": [],
   "source": []
  }
 ],
 "metadata": {
  "kernelspec": {
   "display_name": "Python 3 (ipykernel)",
   "language": "python",
   "name": "python3"
  },
  "language_info": {
   "codemirror_mode": {
    "name": "ipython",
    "version": 3
   },
   "file_extension": ".py",
   "mimetype": "text/x-python",
   "name": "python",
   "nbconvert_exporter": "python",
   "pygments_lexer": "ipython3",
   "version": "3.9.13"
  }
 },
 "nbformat": 4,
 "nbformat_minor": 5
}
