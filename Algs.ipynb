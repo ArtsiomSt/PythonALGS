{
 "cells": [
  {
   "cell_type": "markdown",
   "id": "a7a2917a",
   "metadata": {},
   "source": [
    "У Кости есть бумажка, на которой написано ﻿\n",
    "n﻿ чисел. Также у него есть возможность не больше, чем ﻿\n",
    "k﻿ раз, взять любое число с бумажки, после чего закрасить одну из старых цифр, а на ее месте написать новую произвольную цифру.\n",
    "\n",
    "На какое максимальное значение Костя сможет увеличить сумму всех чисел на листочке?"
   ]
  },
  {
   "cell_type": "code",
   "execution_count": 13,
   "id": "dd626596",
   "metadata": {},
   "outputs": [
    {
     "name": "stdout",
     "output_type": "stream",
     "text": [
      "100  10  12  15\n",
      "160\n"
     ]
    }
   ],
   "source": [
    "A, B, C, D = map(int, input().split())\n",
    "differen = D - B\n",
    "if differen <= 0:\n",
    "    sum = A\n",
    "else:\n",
    "    sum = A + differen * C\n",
    "print(sum)"
   ]
  },
  {
   "cell_type": "markdown",
   "id": "3c6bb299",
   "metadata": {},
   "source": [
    "Ваня принес на кухню рулет, который он хочет разделить с коллегами. Для этого он хочет разрезать рулет на ﻿\n",
    "N﻿ равных частей. Разумеется, рулет можно резать только поперек. Соотвественно, Костя сделает ﻿\n",
    "−\n",
    "1\n",
    "N−1﻿ разрез ножом через равные промежутки.\n",
    "\n",
    "\n",
    "\n",
    "По возвращению с кофе-брейка Ваня задумался — а можно ли было обойтись меньшим числом движений, будь нож Вани бесконечно длинным (иначе говоря, если он мог бы сделать сколько угодно разрезов за раз, если эти разрезы лежат на одной прямой)? Считается, что места для разрезов намечены заранее, и все разрезы делаются с ювелирной точностью.\n",
    "\n",
    "Оказывается, что можно. Например, если Ваня хотел бы разделить рулет на ﻿\n",
    "4\n",
    "4﻿ части, он мог бы обойтись двумя разрезами — сначала он разделил бы рулет на две половинки, а потом совместил бы две половинки и разрезал обе пополам одновременно.\n",
    "\n",
    "Вам дано число ﻿\n",
    "N﻿, требуется сказать, каким минимальным числом разрезов можно обойтись."
   ]
  },
  {
   "cell_type": "code",
   "execution_count": 60,
   "id": "7e732f38",
   "metadata": {
    "scrolled": true
   },
   "outputs": [
    {
     "name": "stdout",
     "output_type": "stream",
     "text": [
      "4\n",
      "2\n"
     ]
    }
   ],
   "source": [
    "import math\n",
    "\n",
    "\n",
    "def check_two(value):\n",
    "    start = 2\n",
    "    counter = 1\n",
    "    while True:\n",
    "        if value == start:\n",
    "            return True, counter\n",
    "        else:\n",
    "            start = start*2\n",
    "            counter += 1\n",
    "            if start > value:\n",
    "                return False, counter\n",
    "N = int(input())\n",
    "def check_amount(N, recursed = False):\n",
    "    amount_of_slices = 0\n",
    "    check = check_two(N)\n",
    "    if N == 1 and recursed == True:\n",
    "        return 1\n",
    "    if N == 1 and recursed == False:\n",
    "        return 0\n",
    "    if N % 2 != 0:\n",
    "        left = int(N/2)\n",
    "        right = N - left\n",
    "        return check_amount(right, True)+1\n",
    "    elif check[0]:\n",
    "        return check[1]\n",
    "    else:\n",
    "        amount_of_slices += 1\n",
    "        if int(N/2) == 0:\n",
    "            return amount_of_slices\n",
    "        else:\n",
    "            amount_of_slices += check_amount(N/2, True)\n",
    "        return amount_of_slices\n",
    "            \n",
    "print(check_amount(N))"
   ]
  },
  {
   "cell_type": "markdown",
   "id": "32263d55",
   "metadata": {},
   "source": [
    "У Кости есть бумажка, на которой написано ﻿\n",
    "n﻿ чисел. Также у него есть возможность не больше, чем ﻿\n",
    "k﻿ раз, взять любое число с бумажки, после чего закрасить одну из старых цифр, а на ее месте написать новую произвольную цифру.\n",
    "\n",
    "На какое максимальное значение Костя сможет увеличить сумму всех чисел на листочке?"
   ]
  },
  {
   "cell_type": "code",
   "execution_count": 23,
   "id": "f1e8c5df",
   "metadata": {},
   "outputs": [
    {
     "name": "stdout",
     "output_type": "stream",
     "text": [
      "1 2\n",
      "1\n",
      "8\n"
     ]
    }
   ],
   "source": [
    "n, k = map(int, input().split())\n",
    "numbers = [x for x in input().split()]\n",
    "allowed_nums = [1,2,3,4,5,6,7,8,9]\n",
    "\n",
    "def find_max_sum(numbers, iters):\n",
    "    sum_of_start = sum(list(map(int, numbers)))\n",
    "    results = []\n",
    "    for idx, num in enumerate(numbers):\n",
    "        for c in range(len(num)):\n",
    "            new_value = num[:c]+'9'+num[c+1:]\n",
    "            new_mas = numbers[:idx] + [new_value] + numbers[idx+1:]\n",
    "            new_sum = sum(list(map(int, new_mas)))\n",
    "            results.append([(idx, c), new_sum])\n",
    "    results = sorted(results, key=lambda x: x[1], reverse=True)\n",
    "    need_to_change = results[:iters]\n",
    "    res_mas = numbers\n",
    "    for item in need_to_change:\n",
    "        res_mas[item[0][0]] = res_mas[item[0][0]][:item[0][1]] + '9' + res_mas[item[0][0]][item[0][1]+1:]\n",
    "    return sum(list(map(int, res_mas))) - sum_of_start\n",
    "    \n",
    "print(find_max_sum(numbers, k))"
   ]
  },
  {
   "cell_type": "code",
   "execution_count": null,
   "id": "78b4fbeb",
   "metadata": {},
   "outputs": [],
   "source": []
  },
  {
   "cell_type": "code",
   "execution_count": 30,
   "id": "8d7c1c76",
   "metadata": {},
   "outputs": [
    {
     "name": "stdout",
     "output_type": "stream",
     "text": [
      "4 7\n",
      "4\n"
     ]
    }
   ],
   "source": [
    "l, r = map(int, input().split())\n",
    "\n",
    "def get_amount_of_test(l, r):\n",
    "    allowed = [str(x) for x in range(10)]\n",
    "    amount_of_tests = 0\n",
    "    left_border = len(str(l))\n",
    "    right_border = len(str(r))\n",
    "    for item in range(left_border, right_border+1):\n",
    "        for num in allowed:\n",
    "            curent_number = int(item*num)\n",
    "            if curent_number >= l and curent_number <= r:\n",
    "                amount_of_tests += 1\n",
    "    return amount_of_tests\n",
    "            \n",
    "print(get_amount_of_test(l, r))"
   ]
  },
  {
   "cell_type": "code",
   "execution_count": 13,
   "id": "a37a919b",
   "metadata": {},
   "outputs": [
    {
     "name": "stdout",
     "output_type": "stream",
     "text": [
      "2\n",
      "2 1\n",
      "1 2\n"
     ]
    }
   ],
   "source": [
    "amount = int(input())\n",
    "heights = list(map(int, input().split()))\n",
    "\n",
    "from copy import deepcopy\n",
    "\n",
    "\n",
    "def get_requered_task(heights):\n",
    "    change = (-1, -1)\n",
    "    heights_cpy = deepcopy(heights)\n",
    "    def check_state(heights):\n",
    "        for idh, h in enumerate(heights):\n",
    "            if (idh+1) % 2 != h % 2:\n",
    "                return False\n",
    "        return True\n",
    "    if check_state(heights):\n",
    "        return -1, -1\n",
    "    for idh, h in enumerate(heights):\n",
    "        if (idh+1) % 2 != h % 2:\n",
    "            for idhc, hc in enumerate(heights):\n",
    "                if (idhc+1) % 2 != hc % 2 and idh != idhc:\n",
    "                    heights_cpy[idh], heights_cpy[idhc] = heights_cpy[idhc], heights_cpy[idh]\n",
    "                    if check_state(heights_cpy):\n",
    "                        return idh+1, idhc+1\n",
    "            return -1, -1\n",
    "        \n",
    "res = get_requered_task(heights)\n",
    "print(res[0], res[1])"
   ]
  },
  {
   "cell_type": "code",
   "execution_count": 1,
   "id": "83228782",
   "metadata": {},
   "outputs": [],
   "source": []
  },
  {
   "cell_type": "code",
   "execution_count": null,
   "id": "fa4e40b9",
   "metadata": {},
   "outputs": [],
   "source": []
  }
 ],
 "metadata": {
  "kernelspec": {
   "display_name": "Python 3 (ipykernel)",
   "language": "python",
   "name": "python3"
  },
  "language_info": {
   "codemirror_mode": {
    "name": "ipython",
    "version": 3
   },
   "file_extension": ".py",
   "mimetype": "text/x-python",
   "name": "python",
   "nbconvert_exporter": "python",
   "pygments_lexer": "ipython3",
   "version": "3.9.13"
  }
 },
 "nbformat": 4,
 "nbformat_minor": 5
}
