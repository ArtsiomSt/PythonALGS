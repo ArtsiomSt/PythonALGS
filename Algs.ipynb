{
 "cells": [
  {
   "cell_type": "markdown",
   "id": "a7a2917a",
   "metadata": {},
   "source": [
    "У Кости есть бумажка, на которой написано ﻿\n",
    "n﻿ чисел. Также у него есть возможность не больше, чем ﻿\n",
    "k﻿ раз, взять любое число с бумажки, после чего закрасить одну из старых цифр, а на ее месте написать новую произвольную цифру.\n",
    "\n",
    "На какое максимальное значение Костя сможет увеличить сумму всех чисел на листочке?"
   ]
  },
  {
   "cell_type": "code",
   "execution_count": 13,
   "id": "dd626596",
   "metadata": {},
   "outputs": [
    {
     "name": "stdout",
     "output_type": "stream",
     "text": [
      "100  10  12  15\n",
      "160\n"
     ]
    }
   ],
   "source": [
    "A, B, C, D = map(int, input().split())\n",
    "differen = D - B\n",
    "if differen <= 0:\n",
    "    sum = A\n",
    "else:\n",
    "    sum = A + differen * C\n",
    "print(sum)"
   ]
  },
  {
   "cell_type": "markdown",
   "id": "3c6bb299",
   "metadata": {},
   "source": [
    "Ваня принес на кухню рулет, который он хочет разделить с коллегами. Для этого он хочет разрезать рулет на ﻿\n",
    "N﻿ равных частей. Разумеется, рулет можно резать только поперек. Соотвественно, Костя сделает ﻿\n",
    "−\n",
    "1\n",
    "N−1﻿ разрез ножом через равные промежутки.\n",
    "\n",
    "\n",
    "\n",
    "По возвращению с кофе-брейка Ваня задумался — а можно ли было обойтись меньшим числом движений, будь нож Вани бесконечно длинным (иначе говоря, если он мог бы сделать сколько угодно разрезов за раз, если эти разрезы лежат на одной прямой)? Считается, что места для разрезов намечены заранее, и все разрезы делаются с ювелирной точностью.\n",
    "\n",
    "Оказывается, что можно. Например, если Ваня хотел бы разделить рулет на ﻿\n",
    "4\n",
    "4﻿ части, он мог бы обойтись двумя разрезами — сначала он разделил бы рулет на две половинки, а потом совместил бы две половинки и разрезал обе пополам одновременно.\n",
    "\n",
    "Вам дано число ﻿\n",
    "N﻿, требуется сказать, каким минимальным числом разрезов можно обойтись."
   ]
  },
  {
   "cell_type": "code",
   "execution_count": 60,
   "id": "7e732f38",
   "metadata": {
    "scrolled": true
   },
   "outputs": [
    {
     "name": "stdout",
     "output_type": "stream",
     "text": [
      "4\n",
      "2\n"
     ]
    }
   ],
   "source": [
    "import math\n",
    "\n",
    "\n",
    "def check_two(value):\n",
    "    start = 2\n",
    "    counter = 1\n",
    "    while True:\n",
    "        if value == start:\n",
    "            return True, counter\n",
    "        else:\n",
    "            start = start*2\n",
    "            counter += 1\n",
    "            if start > value:\n",
    "                return False, counter\n",
    "N = int(input())\n",
    "def check_amount(N, recursed = False):\n",
    "    amount_of_slices = 0\n",
    "    check = check_two(N)\n",
    "    if N == 1 and recursed == True:\n",
    "        return 1\n",
    "    if N == 1 and recursed == False:\n",
    "        return 0\n",
    "    if N % 2 != 0:\n",
    "        left = int(N/2)\n",
    "        right = N - left\n",
    "        return check_amount(right, True)+1\n",
    "    elif check[0]:\n",
    "        return check[1]\n",
    "    else:\n",
    "        amount_of_slices += 1\n",
    "        if int(N/2) == 0:\n",
    "            return amount_of_slices\n",
    "        else:\n",
    "            amount_of_slices += check_amount(N/2, True)\n",
    "        return amount_of_slices\n",
    "            \n",
    "print(check_amount(N))"
   ]
  },
  {
   "cell_type": "markdown",
   "id": "32263d55",
   "metadata": {},
   "source": [
    "У Кости есть бумажка, на которой написано ﻿\n",
    "n﻿ чисел. Также у него есть возможность не больше, чем ﻿\n",
    "k﻿ раз, взять любое число с бумажки, после чего закрасить одну из старых цифр, а на ее месте написать новую произвольную цифру.\n",
    "\n",
    "На какое максимальное значение Костя сможет увеличить сумму всех чисел на листочке?"
   ]
  },
  {
   "cell_type": "code",
   "execution_count": 23,
   "id": "f1e8c5df",
   "metadata": {},
   "outputs": [
    {
     "name": "stdout",
     "output_type": "stream",
     "text": [
      "1 2\n",
      "1\n",
      "8\n"
     ]
    }
   ],
   "source": [
    "n, k = map(int, input().split())\n",
    "numbers = [x for x in input().split()]\n",
    "allowed_nums = [1,2,3,4,5,6,7,8,9]\n",
    "\n",
    "def find_max_sum(numbers, iters):\n",
    "    sum_of_start = sum(list(map(int, numbers)))\n",
    "    results = []\n",
    "    for idx, num in enumerate(numbers):\n",
    "        for c in range(len(num)):\n",
    "            new_value = num[:c]+'9'+num[c+1:]\n",
    "            new_mas = numbers[:idx] + [new_value] + numbers[idx+1:]\n",
    "            new_sum = sum(list(map(int, new_mas)))\n",
    "            results.append([(idx, c), new_sum])\n",
    "    results = sorted(results, key=lambda x: x[1], reverse=True)\n",
    "    need_to_change = results[:iters]\n",
    "    res_mas = numbers\n",
    "    for item in need_to_change:\n",
    "        res_mas[item[0][0]] = res_mas[item[0][0]][:item[0][1]] + '9' + res_mas[item[0][0]][item[0][1]+1:]\n",
    "    return sum(list(map(int, res_mas))) - sum_of_start\n",
    "    \n",
    "print(find_max_sum(numbers, k))"
   ]
  },
  {
   "cell_type": "markdown",
   "id": "9e187e5b",
   "metadata": {},
   "source": [
    "Во время разработки некоторой задачи Саша решил сгенерировать несколько новых тестов. Каждый тест Саши должен представлять собой натуральное число, не меньшее ﻿\n",
    "�\n",
    "l﻿ и не большее ﻿\n",
    "�\n",
    "r﻿. Кроме того, натуральное число в тесте обязательно должно состоять из одинаковых цифр.\n",
    "\n",
    "Например, число ﻿\n",
    "999\n",
    "999﻿ подходит под это требование, а число ﻿\n",
    "123\n",
    "123﻿ — нет. Какое максимальное число различных тестов сможет создать Саша?"
   ]
  },
  {
   "cell_type": "code",
   "execution_count": 30,
   "id": "8d7c1c76",
   "metadata": {},
   "outputs": [
    {
     "name": "stdout",
     "output_type": "stream",
     "text": [
      "4 7\n",
      "4\n"
     ]
    }
   ],
   "source": [
    "l, r = map(int, input().split())\n",
    "\n",
    "def get_amount_of_test(l, r):\n",
    "    allowed = [str(x) for x in range(10)]\n",
    "    amount_of_tests = 0\n",
    "    left_border = len(str(l))\n",
    "    right_border = len(str(r))\n",
    "    for item in range(left_border, right_border+1):\n",
    "        for num in allowed:\n",
    "            curent_number = int(item*num)\n",
    "            if curent_number >= l and curent_number <= r:\n",
    "                amount_of_tests += 1\n",
    "    return amount_of_tests\n",
    "            \n",
    "print(get_amount_of_test(l, r))"
   ]
  },
  {
   "cell_type": "markdown",
   "id": "9a6026b3",
   "metadata": {},
   "source": [
    "На физкультуре происходит разбиение по двум командам. Ребята выстроены в шеренгу, у каждого из них есть свой рост ﻿\n",
    "a \n",
    "i\n",
    "​\n",
    " ﻿ Разбиение по командам произойдет по принципу «четный-нечетный» — все школьники с четным ростом отправляются в одну команду, а нечетные — в другую.\n",
    "\n",
    "В отличие от привычного урока, ребята не выстроились по росту. Вместо привычного порядка они встали случайно. Теперь физрук Яша смотрит на шеренгу и думает — может ли ровно одна пара учеников поменяться местами так, чтобы команды оказались такими же, как и по принципу «первый-второй». Иначе говоря, он хочет получить такой порядок, при котором все ученики с четным ростом стоят на четных позициях, а с нечетным — на нечетных."
   ]
  },
  {
   "cell_type": "code",
   "execution_count": 13,
   "id": "a37a919b",
   "metadata": {},
   "outputs": [
    {
     "name": "stdout",
     "output_type": "stream",
     "text": [
      "2\n",
      "2 1\n",
      "1 2\n"
     ]
    }
   ],
   "source": [
    "amount = int(input())\n",
    "heights = list(map(int, input().split()))\n",
    "\n",
    "from copy import deepcopy\n",
    "\n",
    "\n",
    "def get_requered_task(heights):\n",
    "    change = (-1, -1)\n",
    "    heights_cpy = deepcopy(heights)\n",
    "    def check_state(heights):\n",
    "        for idh, h in enumerate(heights):\n",
    "            if (idh+1) % 2 != h % 2:\n",
    "                return False\n",
    "        return True\n",
    "    if check_state(heights):\n",
    "        return -1, -1\n",
    "    for idh, h in enumerate(heights):\n",
    "        if (idh+1) % 2 != h % 2:\n",
    "            for idhc, hc in enumerate(heights):\n",
    "                if (idhc+1) % 2 != hc % 2 and idh != idhc:\n",
    "                    heights_cpy[idh], heights_cpy[idhc] = heights_cpy[idhc], heights_cpy[idh]\n",
    "                    if check_state(heights_cpy):\n",
    "                        return idh+1, idhc+1\n",
    "            return -1, -1\n",
    "        \n",
    "res = get_requered_task(heights)\n",
    "print(res[0], res[1])"
   ]
  },
  {
   "cell_type": "code",
   "execution_count": 1,
   "id": "e2432d9d",
   "metadata": {},
   "outputs": [],
   "source": []
  },
  {
   "cell_type": "code",
   "execution_count": 3,
   "id": "cb1393f4",
   "metadata": {},
   "outputs": [
    {
     "ename": "IndentationError",
     "evalue": "expected an indented block (2097089054.py, line 9)",
     "output_type": "error",
     "traceback": [
      "\u001b[1;36m  File \u001b[1;32m\"C:\\Users\\arteo\\AppData\\Local\\Temp\\ipykernel_10336\\2097089054.py\"\u001b[1;36m, line \u001b[1;32m9\u001b[0m\n\u001b[1;33m    for x in range(0, X, 0.00001):\u001b[0m\n\u001b[1;37m                                  ^\u001b[0m\n\u001b[1;31mIndentationError\u001b[0m\u001b[1;31m:\u001b[0m expected an indented block\n"
     ]
    }
   ],
   "source": [
    "X, Y = map(float, input().split())\n",
    "points = list(map(float, input().split()))\n",
    "\n",
    "def get_values(X, Y, points):\n",
    "    left_k = (points[1] - points[7])/(points[0] - points[6])\n",
    "    down_k = (points[1] - points[3])/(points[0] - points[2])\n",
    "    left_b = points[1] - left_k*points[0]\n",
    "    down_b = points[1] - down_k*points[0]\n",
    "    def check_in(point):\n",
    "        dot_new = (point[0])\n",
    "    for x in range(0, X, 0.00001):\n",
    "        for y in range(0, Y, 0.00001):\n",
    "            "
   ]
  },
  {
   "cell_type": "code",
   "execution_count": 2,
   "id": "67e1f438",
   "metadata": {},
   "outputs": [],
   "source": [
    "from copy import deepcopy\n",
    "from itertools import combinations\n",
    "\n",
    "\n",
    "#amount = int(input())\n",
    "#prices = [int(input()) for _ in range(amount)]\n",
    "prices = [35, 40, 101, 59, 63]\n",
    "\n",
    "def get_price(prices):\n",
    "    amount_of_tickets = 0\n",
    "    res_price = []\n",
    "    for id,p in enumerate(prices):\n",
    "        if p>100:\n",
    "            tmp = prices[id+1:]\n",
    "            for item in tmp:\n",
    "                if item>100:\n",
    "                    amount_of_tickets += 1\n",
    "            for a in range(1, amount_of_tickets+1):\n",
    "                combs = combinations(tmp, a)\n",
    "                #print(list(combs))\n",
    "                for c in combs:\n",
    "                    prc = deepcopy(prices)\n",
    "                    #print(prc)\n",
    "                    for e in c:\n",
    "                       prc.remove(e)\n",
    "                    #print(prc)\n",
    "                    res_price.append(sum(prc))\n",
    "            bef = prices[:id+1]\n",
    "            return sum(bef)+min(res_price)\n",
    "    return sum(prices)\n",
    "                             \n",
    "#print(get_price(prices))"
   ]
  },
  {
   "cell_type": "code",
   "execution_count": 18,
   "id": "bca09a3e",
   "metadata": {},
   "outputs": [
    {
     "name": "stdout",
     "output_type": "stream",
     "text": [
      "3 1\n",
      "10 11 13\n",
      "2\n",
      "3\n"
     ]
    }
   ],
   "source": [
    "amount, minutes = map(float, input().split())\n",
    "floors = list(map(float, input().split()))\n",
    "subj = int(input())\n",
    "\n",
    "\n",
    "floor_subj = floors[subj-1]\n",
    "sfl = sorted(floors)\n",
    "\n",
    "if floor_subj - sfl[0] <= minutes or sfl[-1] - floor_subj <= minutes:\n",
    "    print(int(sfl[-1] - sfl[0]))\n",
    "else:\n",
    "    start = floor_subj\n",
    "    count = 0\n",
    "    if start - sfl[0] < sfl[-1] - start:\n",
    "        count += start - sfl[0]\n",
    "        count += sfl[-1] - sfl[0]\n",
    "        print(int(count))\n",
    "    else:\n",
    "        count += sfl[-1] - start\n",
    "        count += sfl[-1] - sfl[0]\n",
    "        print(int(count))"
   ]
  },
  {
   "cell_type": "code",
   "execution_count": 4,
   "id": "c147932f",
   "metadata": {},
   "outputs": [],
   "source": [
    "import math\n",
    "\n",
    "def get_line_by_two_dots(p1, p2):\n",
    "    try:\n",
    "        left_k = (p1[1] - p2[1])/(p1[0] - p2[0])\n",
    "        left_b = p1[1] - left_k*p1[0]\n",
    "    except ZeroDivisionError:\n",
    "        return (p1[0],)\n",
    "    return left_k, left_b\n",
    "\n",
    "def find_resc(k, st, d1, d2):\n",
    "#     if k[1] == st:\n",
    "#         return 1\n",
    "    x = st\n",
    "    y = k[0]*st+k[1]\n",
    "    if x >= min(d1[0], d2[0]) and x <= max(d1[0], d2[0]) and y >= min(d1[1], d2[1]) and y <= max(d1[1], d2[1]):\n",
    "        return (x,y)\n",
    "    else:\n",
    "        return None\n",
    "    \n",
    "\n",
    "def get_lines_that_intersect(dots, st): #Координаты линий которые пересекаются \n",
    "    res = []\n",
    "    for i, dot in enumerate(dots):\n",
    "        right = i+1 if i != len(dots)-1 else 0\n",
    "        line = get_line_by_two_dots(dot, dots[right])\n",
    "       # print(dot, dots[right])\n",
    "        if len(line) == 1 and st == line[0]:\n",
    "            return [(math.dist(dot, dots[right]),)]\n",
    "        elif len(line) == 1:\n",
    "            continue\n",
    "        inters = find_resc(line, st, dot, dots[right])\n",
    "        if inters is not None:\n",
    "            res.append((i, right))\n",
    "    return res\n",
    "\n",
    "\n",
    "def get_line_length(dots, ind, st):\n",
    "    if len(ind) == 1:\n",
    "        return ind[0][0]\n",
    "    k1 = get_line_by_two_dots(dots[ind[0][0]], dots[ind[0][1]])\n",
    "    k2 = get_line_by_two_dots(dots[ind[1][0]], dots[ind[1][1]])\n",
    "    y1 = st*k1[0]+k1[1]\n",
    "    y2 = st*k2[0]+k2[1]\n",
    "    return max(y2,y1) - min(y2, y1)"
   ]
  },
  {
   "cell_type": "code",
   "execution_count": 5,
   "id": "2152c962",
   "metadata": {},
   "outputs": [
    {
     "name": "stdout",
     "output_type": "stream",
     "text": [
      "[(1, 2), (5, 0)]\n",
      "12.019999999999921\n"
     ]
    }
   ],
   "source": [
    "#dots = [(0,0), (0,2), (2,2), (2,0)]\n",
    "dots = [(0,0), (0,2), (2, 2), (2,4), (4,4), (4,0)]\n",
    "print(get_lines_that_intersect(dots, 1))\n",
    "s = 0\n",
    "prec = 0.01\n",
    "st = prec\n",
    "while True:\n",
    "    s += float(get_line_length(dots, get_lines_that_intersect(dots, st), st)) * prec\n",
    "    st += prec\n",
    "    if st > 4:\n",
    "        break\n",
    "print(str(s))"
   ]
  },
  {
   "cell_type": "code",
   "execution_count": 22,
   "id": "14d0868e",
   "metadata": {},
   "outputs": [
    {
     "name": "stdout",
     "output_type": "stream",
     "text": [
      "10\n",
      "2 4 5\n",
      "[1, 3, 5, 6, 8, 9, 10, 7]\n",
      "8\n"
     ]
    }
   ],
   "source": [
    "max_amount = int(input())\n",
    "nominals = list(map(int, input().split()))\n",
    "\n",
    "\n",
    "def get_amount_prices(max_amount, nominals):\n",
    "    money = 1\n",
    "    prices = [1 for _ in range(1) if 1<=max_amount]\n",
    "    res = len(prices)\n",
    "    tmp_prices = []\n",
    "    checked_prices = prices[:]\n",
    "    c = 0\n",
    "    while True:\n",
    "        if c == 10:\n",
    "            break\n",
    "        else:\n",
    "            c += 1\n",
    "        for p in prices:\n",
    "            for n in nominals:\n",
    "                if p+n <= max_amount and p+n not in checked_prices:\n",
    "                    tmp_prices.append(p+n)\n",
    "        #print(tmp_prices)\n",
    "        res += len(set(tmp_prices))\n",
    "        if len(tmp_prices) == 0:\n",
    "            break\n",
    "        else:\n",
    "            prices = list(set(tmp_prices))\n",
    "            checked_prices.extend(list(set(tmp_prices)))\n",
    "            tmp_prices = []\n",
    "    print(checked_prices)\n",
    "    if res == 0:\n",
    "        return len(prices)\n",
    "    else:\n",
    "        return res\n",
    "\n",
    "print(get_amount_prices(max_amount, nominals))"
   ]
  },
  {
   "cell_type": "code",
   "execution_count": null,
   "id": "bb2fb4da",
   "metadata": {},
   "outputs": [],
   "source": []
  }
 ],
 "metadata": {
  "kernelspec": {
   "display_name": "Python 3 (ipykernel)",
   "language": "python",
   "name": "python3"
  },
  "language_info": {
   "codemirror_mode": {
    "name": "ipython",
    "version": 3
   },
   "file_extension": ".py",
   "mimetype": "text/x-python",
   "name": "python",
   "nbconvert_exporter": "python",
   "pygments_lexer": "ipython3",
   "version": "3.9.13"
  }
 },
 "nbformat": 4,
 "nbformat_minor": 5
}
